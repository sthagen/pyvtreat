{
 "cells": [
  {
   "cell_type": "markdown",
   "metadata": {},
   "source": [
    "# Using [vtreat](https://github.com/WinVector/pyvtreat) with Classification Problems\n",
    "\n",
    "Nina Zumel and John Mount\n",
    "November 2019\n",
    "\n",
    "Note: this is a description of the [`Python` version of `vtreat`](https://github.com/WinVector/pyvtreat), the same example for the [`R` version of `vtreat`](https://github.com/WinVector/vtreat) can be found [here](https://github.com/WinVector/vtreat/blob/master/Examples/Classification/Classification.md).\n"
   ]
  },
  {
   "cell_type": "markdown",
   "metadata": {},
   "source": [
    "## Preliminaries"
   ]
  },
  {
   "cell_type": "markdown",
   "metadata": {},
   "source": [
    "Load modules/packages."
   ]
  },
  {
   "cell_type": "code",
   "execution_count": 1,
   "metadata": {
    "collapsed": false,
    "jupyter": {
     "outputs_hidden": false
    },
    "pycharm": {
     "name": "#%%\n"
    }
   },
   "outputs": [],
   "source": [
    "import pkg_resources\n",
    "import pandas\n",
    "import numpy\n",
    "import numpy.random\n",
    "import seaborn\n",
    "import matplotlib.pyplot as plt\n",
    "import vtreat\n",
    "import vtreat.util\n",
    "import wvpy.util\n",
    "\n",
    "numpy.random.seed(2019)"
   ]
  },
  {
   "cell_type": "markdown",
   "metadata": {},
   "source": [
    "Generate example data. \n",
    "\n",
    "* `y` is a noisy sinusoidal function of the variable `x`\n",
    "* `yc` is the output to be predicted: : whether `y` is > 0.5. \n",
    "* Input `xc` is a categorical variable that represents a discretization of `y`, along some `NaN`s\n",
    "* Input `x2` is a pure noise variable with no relationship to the output"
   ]
  },
  {
   "cell_type": "code",
   "execution_count": 2,
   "metadata": {
    "collapsed": false,
    "jupyter": {
     "outputs_hidden": false
    },
    "pycharm": {
     "name": "#%%\n"
    }
   },
   "outputs": [
    {
     "data": {
      "text/html": [
       "<div>\n",
       "<style scoped>\n",
       "    .dataframe tbody tr th:only-of-type {\n",
       "        vertical-align: middle;\n",
       "    }\n",
       "\n",
       "    .dataframe tbody tr th {\n",
       "        vertical-align: top;\n",
       "    }\n",
       "\n",
       "    .dataframe thead th {\n",
       "        text-align: right;\n",
       "    }\n",
       "</style>\n",
       "<table border=\"1\" class=\"dataframe\">\n",
       "  <thead>\n",
       "    <tr style=\"text-align: right;\">\n",
       "      <th></th>\n",
       "      <th>x</th>\n",
       "      <th>y</th>\n",
       "      <th>xc</th>\n",
       "      <th>x2</th>\n",
       "      <th>yc</th>\n",
       "    </tr>\n",
       "  </thead>\n",
       "  <tbody>\n",
       "    <tr>\n",
       "      <th>0</th>\n",
       "      <td>-1.088395</td>\n",
       "      <td>-0.956311</td>\n",
       "      <td>NaN</td>\n",
       "      <td>-1.424184</td>\n",
       "      <td>False</td>\n",
       "    </tr>\n",
       "    <tr>\n",
       "      <th>1</th>\n",
       "      <td>4.107277</td>\n",
       "      <td>-0.671564</td>\n",
       "      <td>level_-0.5</td>\n",
       "      <td>0.427360</td>\n",
       "      <td>False</td>\n",
       "    </tr>\n",
       "    <tr>\n",
       "      <th>2</th>\n",
       "      <td>7.406389</td>\n",
       "      <td>0.906303</td>\n",
       "      <td>level_1.0</td>\n",
       "      <td>0.668849</td>\n",
       "      <td>True</td>\n",
       "    </tr>\n",
       "    <tr>\n",
       "      <th>3</th>\n",
       "      <td>NaN</td>\n",
       "      <td>0.222792</td>\n",
       "      <td>level_0.0</td>\n",
       "      <td>-0.015787</td>\n",
       "      <td>False</td>\n",
       "    </tr>\n",
       "    <tr>\n",
       "      <th>4</th>\n",
       "      <td>NaN</td>\n",
       "      <td>-0.975431</td>\n",
       "      <td>NaN</td>\n",
       "      <td>-0.491017</td>\n",
       "      <td>False</td>\n",
       "    </tr>\n",
       "  </tbody>\n",
       "</table>\n",
       "</div>"
      ],
      "text/plain": [
       "          x         y          xc        x2     yc\n",
       "0 -1.088395 -0.956311         NaN -1.424184  False\n",
       "1  4.107277 -0.671564  level_-0.5  0.427360  False\n",
       "2  7.406389  0.906303   level_1.0  0.668849   True\n",
       "3       NaN  0.222792   level_0.0 -0.015787  False\n",
       "4       NaN -0.975431         NaN -0.491017  False"
      ]
     },
     "execution_count": 2,
     "metadata": {},
     "output_type": "execute_result"
    }
   ],
   "source": [
    "def make_data(nrows):\n",
    "    d = pandas.DataFrame({'x': 5*numpy.random.normal(size=nrows)})\n",
    "    d['y'] = numpy.sin(d['x']) + 0.1*numpy.random.normal(size=nrows)\n",
    "    d.loc[numpy.arange(3, 10), 'x'] = numpy.nan                           # introduce a nan level\n",
    "    d['xc'] = ['level_' + str(5*numpy.round(yi/5, 1)) for yi in d['y']]\n",
    "    d['x2'] = numpy.random.normal(size=nrows)\n",
    "    d.loc[d['xc']=='level_-1.0', 'xc'] = numpy.nan  # introduce a nan level\n",
    "    d['yc'] = d['y']>0.5\n",
    "    return d\n",
    "\n",
    "d = make_data(500)\n",
    "\n",
    "d.head()"
   ]
  },
  {
   "cell_type": "code",
   "execution_count": 3,
   "metadata": {},
   "outputs": [],
   "source": [
    "outcome_name = 'yc'    # outcome variable / column\n",
    "outcome_target = True  # value we consider positive"
   ]
  },
  {
   "cell_type": "markdown",
   "metadata": {},
   "source": [
    "### Some quick data exploration"
   ]
  },
  {
   "cell_type": "markdown",
   "metadata": {},
   "source": [
    "Check how many levels `xc` has, and their distribution (including `NaN`)"
   ]
  },
  {
   "cell_type": "code",
   "execution_count": 4,
   "metadata": {
    "collapsed": false,
    "jupyter": {
     "outputs_hidden": false
    },
    "pycharm": {
     "name": "#%%\n"
    }
   },
   "outputs": [
    {
     "data": {
      "text/plain": [
       "array([nan, 'level_-0.5', 'level_1.0', 'level_0.0', 'level_-0.0',\n",
       "       'level_0.5'], dtype=object)"
      ]
     },
     "execution_count": 4,
     "metadata": {},
     "output_type": "execute_result"
    }
   ],
   "source": [
    "d['xc'].unique()"
   ]
  },
  {
   "cell_type": "code",
   "execution_count": 5,
   "metadata": {
    "collapsed": false,
    "jupyter": {
     "outputs_hidden": false
    },
    "pycharm": {
     "name": "#%%\n"
    }
   },
   "outputs": [
    {
     "data": {
      "text/plain": [
       "level_1.0     140\n",
       "NaN           109\n",
       "level_-0.5    103\n",
       "level_0.5      75\n",
       "level_0.0      37\n",
       "level_-0.0     36\n",
       "Name: xc, dtype: int64"
      ]
     },
     "execution_count": 5,
     "metadata": {},
     "output_type": "execute_result"
    }
   ],
   "source": [
    "d['xc'].value_counts(dropna=False)"
   ]
  },
  {
   "cell_type": "markdown",
   "metadata": {},
   "source": [
    "Find the prevalence of `yc == True` (our chosen notion of \"positive\")."
   ]
  },
  {
   "cell_type": "code",
   "execution_count": 6,
   "metadata": {
    "collapsed": false,
    "jupyter": {
     "outputs_hidden": false
    },
    "pycharm": {
     "name": "#%%\n"
    }
   },
   "outputs": [
    {
     "data": {
      "text/plain": [
       "0.35"
      ]
     },
     "execution_count": 6,
     "metadata": {},
     "output_type": "execute_result"
    }
   ],
   "source": [
    "numpy.mean(d[outcome_name] == outcome_target)"
   ]
  },
  {
   "cell_type": "markdown",
   "metadata": {},
   "source": [
    "Plot of `yc` versus `x`."
   ]
  },
  {
   "cell_type": "code",
   "execution_count": 7,
   "metadata": {
    "collapsed": false,
    "jupyter": {
     "outputs_hidden": false
    },
    "pycharm": {
     "name": "#%%\n"
    }
   },
   "outputs": [
    {
     "data": {
      "text/plain": [
       "<matplotlib.axes._subplots.AxesSubplot at 0x1c1f554750>"
      ]
     },
     "execution_count": 7,
     "metadata": {},
     "output_type": "execute_result"
    },
    {
     "data": {
      "image/png": "[encoded data removed]",
      "text/plain": [
       "<Figure size 432x288 with 1 Axes>"
      ]
     },
     "metadata": {
      "needs_background": "light"
     },
     "output_type": "display_data"
    }
   ],
   "source": [
    "seaborn.lineplot(x='x', y='yc', data=d)"
   ]
  },
  {
   "cell_type": "markdown",
   "metadata": {},
   "source": [
    "## Build a transform appropriate for classification problems.\n",
    "\n",
    "Now that we have the data, we want to treat it prior to modeling: we want training data where all the input variables are numeric and have no missing values or `NaN`s.\n",
    "\n",
    "First create the data treatment transform object, in this case a treatment for a binomial classification problem."
   ]
  },
  {
   "cell_type": "code",
   "execution_count": 8,
   "metadata": {
    "collapsed": false,
    "jupyter": {
     "outputs_hidden": false
    },
    "pycharm": {
     "name": "#%%\n"
    }
   },
   "outputs": [],
   "source": [
    "transform = vtreat.BinomialOutcomeTreatment(\n",
    "    outcome_name=outcome_name,      # outcome variable\n",
    "    outcome_target=outcome_target,  # outcome of interest\n",
    "    cols_to_copy=['y'],  # columns to \"carry along\" but not treat as input variables\n",
    ")  "
   ]
  },
  {
   "cell_type": "markdown",
   "metadata": {},
   "source": [
    "Use the training data `d` to fit the transform and the return a treated training set: completely numeric, with no missing values.\n",
    "Note that for the training data `d`: `transform.fit_transform()` is **not** the same as `transform.fit().transform()`; the second call can lead to nested model bias in some situations, and is **not** recommended. \n",
    "For other, later data, not seen during transform design `transform.transform(o)` is an appropriate step."
   ]
  },
  {
   "cell_type": "code",
   "execution_count": 9,
   "metadata": {
    "collapsed": false,
    "jupyter": {
     "outputs_hidden": false
    },
    "pycharm": {
     "name": "#%%\n"
    }
   },
   "outputs": [],
   "source": [
    "d_prepared = transform.fit_transform(d, d['yc'])"
   ]
  },
  {
   "cell_type": "markdown",
   "metadata": {},
   "source": [
    "Now examine the score frame, which gives information about each new variable, including its type, which original variable it is  derived from, its (cross-validated) correlation with the outcome, and its (cross-validated) significance as a one-variable linear model for the outcome. "
   ]
  },
  {
   "cell_type": "code",
   "execution_count": 10,
   "metadata": {
    "collapsed": false,
    "jupyter": {
     "outputs_hidden": false
    },
    "pycharm": {
     "name": "#%%\n"
    }
   },
   "outputs": [
    {
     "data": {
      "text/html": [
       "<div>\n",
       "<style scoped>\n",
       "    .dataframe tbody tr th:only-of-type {\n",
       "        vertical-align: middle;\n",
       "    }\n",
       "\n",
       "    .dataframe tbody tr th {\n",
       "        vertical-align: top;\n",
       "    }\n",
       "\n",
       "    .dataframe thead th {\n",
       "        text-align: right;\n",
       "    }\n",
       "</style>\n",
       "<table border=\"1\" class=\"dataframe\">\n",
       "  <thead>\n",
       "    <tr style=\"text-align: right;\">\n",
       "      <th></th>\n",
       "      <th>variable</th>\n",
       "      <th>orig_variable</th>\n",
       "      <th>treatment</th>\n",
       "      <th>y_aware</th>\n",
       "      <th>has_range</th>\n",
       "      <th>PearsonR</th>\n",
       "      <th>R2</th>\n",
       "      <th>significance</th>\n",
       "      <th>vcount</th>\n",
       "      <th>default_threshold</th>\n",
       "      <th>recommended</th>\n",
       "    </tr>\n",
       "  </thead>\n",
       "  <tbody>\n",
       "    <tr>\n",
       "      <th>0</th>\n",
       "      <td>x_is_bad</td>\n",
       "      <td>x</td>\n",
       "      <td>missing_indicator</td>\n",
       "      <td>False</td>\n",
       "      <td>True</td>\n",
       "      <td>-0.051749</td>\n",
       "      <td>0.002388</td>\n",
       "      <td>2.137073e-01</td>\n",
       "      <td>2.0</td>\n",
       "      <td>0.10</td>\n",
       "      <td>False</td>\n",
       "    </tr>\n",
       "    <tr>\n",
       "      <th>1</th>\n",
       "      <td>xc_is_bad</td>\n",
       "      <td>xc</td>\n",
       "      <td>missing_indicator</td>\n",
       "      <td>False</td>\n",
       "      <td>True</td>\n",
       "      <td>-0.387438</td>\n",
       "      <td>0.169454</td>\n",
       "      <td>1.132743e-25</td>\n",
       "      <td>2.0</td>\n",
       "      <td>0.10</td>\n",
       "      <td>True</td>\n",
       "    </tr>\n",
       "    <tr>\n",
       "      <th>2</th>\n",
       "      <td>x</td>\n",
       "      <td>x</td>\n",
       "      <td>clean_copy</td>\n",
       "      <td>False</td>\n",
       "      <td>True</td>\n",
       "      <td>0.052826</td>\n",
       "      <td>0.002158</td>\n",
       "      <td>2.371412e-01</td>\n",
       "      <td>2.0</td>\n",
       "      <td>0.10</td>\n",
       "      <td>False</td>\n",
       "    </tr>\n",
       "    <tr>\n",
       "      <th>3</th>\n",
       "      <td>x2</td>\n",
       "      <td>x2</td>\n",
       "      <td>clean_copy</td>\n",
       "      <td>False</td>\n",
       "      <td>True</td>\n",
       "      <td>0.069126</td>\n",
       "      <td>0.003709</td>\n",
       "      <td>1.212047e-01</td>\n",
       "      <td>2.0</td>\n",
       "      <td>0.10</td>\n",
       "      <td>False</td>\n",
       "    </tr>\n",
       "    <tr>\n",
       "      <th>4</th>\n",
       "      <td>xc_logit_code</td>\n",
       "      <td>xc</td>\n",
       "      <td>logit_code</td>\n",
       "      <td>True</td>\n",
       "      <td>True</td>\n",
       "      <td>0.867915</td>\n",
       "      <td>0.834540</td>\n",
       "      <td>1.606230e-119</td>\n",
       "      <td>1.0</td>\n",
       "      <td>0.20</td>\n",
       "      <td>True</td>\n",
       "    </tr>\n",
       "    <tr>\n",
       "      <th>5</th>\n",
       "      <td>xc_prevalence_code</td>\n",
       "      <td>xc</td>\n",
       "      <td>prevalence_code</td>\n",
       "      <td>False</td>\n",
       "      <td>True</td>\n",
       "      <td>0.567968</td>\n",
       "      <td>0.341474</td>\n",
       "      <td>5.241952e-50</td>\n",
       "      <td>1.0</td>\n",
       "      <td>0.20</td>\n",
       "      <td>True</td>\n",
       "    </tr>\n",
       "    <tr>\n",
       "      <th>6</th>\n",
       "      <td>xc_lev_level_1_0</td>\n",
       "      <td>xc</td>\n",
       "      <td>indicator_code</td>\n",
       "      <td>False</td>\n",
       "      <td>True</td>\n",
       "      <td>0.849837</td>\n",
       "      <td>0.645323</td>\n",
       "      <td>7.304511e-93</td>\n",
       "      <td>4.0</td>\n",
       "      <td>0.05</td>\n",
       "      <td>True</td>\n",
       "    </tr>\n",
       "    <tr>\n",
       "      <th>7</th>\n",
       "      <td>xc_lev__NA_</td>\n",
       "      <td>xc</td>\n",
       "      <td>indicator_code</td>\n",
       "      <td>False</td>\n",
       "      <td>True</td>\n",
       "      <td>-0.387438</td>\n",
       "      <td>0.169454</td>\n",
       "      <td>1.132743e-25</td>\n",
       "      <td>4.0</td>\n",
       "      <td>0.05</td>\n",
       "      <td>True</td>\n",
       "    </tr>\n",
       "    <tr>\n",
       "      <th>8</th>\n",
       "      <td>xc_lev_level_-0_5</td>\n",
       "      <td>xc</td>\n",
       "      <td>indicator_code</td>\n",
       "      <td>False</td>\n",
       "      <td>True</td>\n",
       "      <td>-0.373767</td>\n",
       "      <td>0.158569</td>\n",
       "      <td>3.968788e-24</td>\n",
       "      <td>4.0</td>\n",
       "      <td>0.05</td>\n",
       "      <td>True</td>\n",
       "    </tr>\n",
       "    <tr>\n",
       "      <th>9</th>\n",
       "      <td>xc_lev_level_0_5</td>\n",
       "      <td>xc</td>\n",
       "      <td>indicator_code</td>\n",
       "      <td>False</td>\n",
       "      <td>True</td>\n",
       "      <td>0.102752</td>\n",
       "      <td>0.007894</td>\n",
       "      <td>2.377379e-02</td>\n",
       "      <td>4.0</td>\n",
       "      <td>0.05</td>\n",
       "      <td>True</td>\n",
       "    </tr>\n",
       "  </tbody>\n",
       "</table>\n",
       "</div>"
      ],
      "text/plain": [
       "             variable orig_variable          treatment  y_aware  has_range  \\\n",
       "0            x_is_bad             x  missing_indicator    False       True   \n",
       "1           xc_is_bad            xc  missing_indicator    False       True   \n",
       "2                   x             x         clean_copy    False       True   \n",
       "3                  x2            x2         clean_copy    False       True   \n",
       "4       xc_logit_code            xc         logit_code     True       True   \n",
       "5  xc_prevalence_code            xc    prevalence_code    False       True   \n",
       "6    xc_lev_level_1_0            xc     indicator_code    False       True   \n",
       "7         xc_lev__NA_            xc     indicator_code    False       True   \n",
       "8   xc_lev_level_-0_5            xc     indicator_code    False       True   \n",
       "9    xc_lev_level_0_5            xc     indicator_code    False       True   \n",
       "\n",
       "   PearsonR        R2   significance  vcount  default_threshold  recommended  \n",
       "0 -0.051749  0.002388   2.137073e-01     2.0               0.10        False  \n",
       "1 -0.387438  0.169454   1.132743e-25     2.0               0.10         True  \n",
       "2  0.052826  0.002158   2.371412e-01     2.0               0.10        False  \n",
       "3  0.069126  0.003709   1.212047e-01     2.0               0.10        False  \n",
       "4  0.867915  0.834540  1.606230e-119     1.0               0.20         True  \n",
       "5  0.567968  0.341474   5.241952e-50     1.0               0.20         True  \n",
       "6  0.849837  0.645323   7.304511e-93     4.0               0.05         True  \n",
       "7 -0.387438  0.169454   1.132743e-25     4.0               0.05         True  \n",
       "8 -0.373767  0.158569   3.968788e-24     4.0               0.05         True  \n",
       "9  0.102752  0.007894   2.377379e-02     4.0               0.05         True  "
      ]
     },
     "execution_count": 10,
     "metadata": {},
     "output_type": "execute_result"
    }
   ],
   "source": [
    "transform.score_frame_"
   ]
  },
  {
   "cell_type": "markdown",
   "metadata": {},
   "source": [
    "Note that the variable `xc` has been converted to multiple variables: \n",
    "\n",
    "* an indicator variable for each possible level (`xc_lev_level_*`)\n",
    "* the value of a (cross-validated) one-variable model for `yc` as a function of `xc` (`xc_logit_code`)\n",
    "* a variable that returns how prevalent this particular value of `xc` is in the training data (`xc_prevalence_code`)\n",
    "* a variable indicating when `xc` was `NaN` in the original data (`xc_is_bad`, `x_is_bad`)\n",
    "\n",
    "Any or all of these new variables are available for downstream modeling. `x` doesn't show as exciting a significance as `xc`, as we are only checking linear relations, and `x` is related to `y` in a very non-linear way.\n",
    "\n",
    "The `recommended` column indicates which variables are non constant (`has_range` == True) and have a significance value smaller than `default_threshold`. See the section *Deriving the Default Thresholds* below for the reasoning behind the default thresholds. Recommended columns are intended as advice about which variables appear to be most likely to be useful in a downstream model. This advice attempts to be conservative, to reduce the possibility of mistakenly eliminating variables that may in fact be useful (although, obviously, it can still mistakenly eliminate variables that have a real but non-linear relationship to the output, as is the case with `x`, in  our example)."
   ]
  },
  {
   "cell_type": "markdown",
   "metadata": {},
   "source": [
    "Let's look at the variables that are and are not recommended:"
   ]
  },
  {
   "cell_type": "code",
   "execution_count": 11,
   "metadata": {
    "collapsed": false,
    "jupyter": {
     "outputs_hidden": false
    },
    "pycharm": {
     "name": "#%%\n"
    }
   },
   "outputs": [
    {
     "data": {
      "text/html": [
       "<div>\n",
       "<style scoped>\n",
       "    .dataframe tbody tr th:only-of-type {\n",
       "        vertical-align: middle;\n",
       "    }\n",
       "\n",
       "    .dataframe tbody tr th {\n",
       "        vertical-align: top;\n",
       "    }\n",
       "\n",
       "    .dataframe thead th {\n",
       "        text-align: right;\n",
       "    }\n",
       "</style>\n",
       "<table border=\"1\" class=\"dataframe\">\n",
       "  <thead>\n",
       "    <tr style=\"text-align: right;\">\n",
       "      <th></th>\n",
       "      <th>variable</th>\n",
       "    </tr>\n",
       "  </thead>\n",
       "  <tbody>\n",
       "    <tr>\n",
       "      <th>1</th>\n",
       "      <td>xc_is_bad</td>\n",
       "    </tr>\n",
       "    <tr>\n",
       "      <th>4</th>\n",
       "      <td>xc_logit_code</td>\n",
       "    </tr>\n",
       "    <tr>\n",
       "      <th>5</th>\n",
       "      <td>xc_prevalence_code</td>\n",
       "    </tr>\n",
       "    <tr>\n",
       "      <th>6</th>\n",
       "      <td>xc_lev_level_1_0</td>\n",
       "    </tr>\n",
       "    <tr>\n",
       "      <th>7</th>\n",
       "      <td>xc_lev__NA_</td>\n",
       "    </tr>\n",
       "    <tr>\n",
       "      <th>8</th>\n",
       "      <td>xc_lev_level_-0_5</td>\n",
       "    </tr>\n",
       "    <tr>\n",
       "      <th>9</th>\n",
       "      <td>xc_lev_level_0_5</td>\n",
       "    </tr>\n",
       "  </tbody>\n",
       "</table>\n",
       "</div>"
      ],
      "text/plain": [
       "             variable\n",
       "1           xc_is_bad\n",
       "4       xc_logit_code\n",
       "5  xc_prevalence_code\n",
       "6    xc_lev_level_1_0\n",
       "7         xc_lev__NA_\n",
       "8   xc_lev_level_-0_5\n",
       "9    xc_lev_level_0_5"
      ]
     },
     "execution_count": 11,
     "metadata": {},
     "output_type": "execute_result"
    }
   ],
   "source": [
    "# recommended variables\n",
    "transform.score_frame_.loc[transform.score_frame_['recommended'], ['variable']]"
   ]
  },
  {
   "cell_type": "code",
   "execution_count": 12,
   "metadata": {
    "collapsed": false,
    "jupyter": {
     "outputs_hidden": false
    },
    "pycharm": {
     "name": "#%%\n"
    }
   },
   "outputs": [
    {
     "data": {
      "text/html": [
       "<div>\n",
       "<style scoped>\n",
       "    .dataframe tbody tr th:only-of-type {\n",
       "        vertical-align: middle;\n",
       "    }\n",
       "\n",
       "    .dataframe tbody tr th {\n",
       "        vertical-align: top;\n",
       "    }\n",
       "\n",
       "    .dataframe thead th {\n",
       "        text-align: right;\n",
       "    }\n",
       "</style>\n",
       "<table border=\"1\" class=\"dataframe\">\n",
       "  <thead>\n",
       "    <tr style=\"text-align: right;\">\n",
       "      <th></th>\n",
       "      <th>variable</th>\n",
       "    </tr>\n",
       "  </thead>\n",
       "  <tbody>\n",
       "    <tr>\n",
       "      <th>0</th>\n",
       "      <td>x_is_bad</td>\n",
       "    </tr>\n",
       "    <tr>\n",
       "      <th>2</th>\n",
       "      <td>x</td>\n",
       "    </tr>\n",
       "    <tr>\n",
       "      <th>3</th>\n",
       "      <td>x2</td>\n",
       "    </tr>\n",
       "  </tbody>\n",
       "</table>\n",
       "</div>"
      ],
      "text/plain": [
       "   variable\n",
       "0  x_is_bad\n",
       "2         x\n",
       "3        x2"
      ]
     },
     "execution_count": 12,
     "metadata": {},
     "output_type": "execute_result"
    }
   ],
   "source": [
    "# not recommended variables\n",
    "transform.score_frame_.loc[~transform.score_frame_['recommended'], ['variable']]"
   ]
  },
  {
   "cell_type": "markdown",
   "metadata": {},
   "source": [
    "Notice that `d_prepared` only includes recommended variables (along with `y` and `yc`):"
   ]
  },
  {
   "cell_type": "code",
   "execution_count": 13,
   "metadata": {
    "collapsed": false,
    "jupyter": {
     "outputs_hidden": false
    },
    "pycharm": {
     "name": "#%%\n"
    }
   },
   "outputs": [
    {
     "data": {
      "text/html": [
       "<div>\n",
       "<style scoped>\n",
       "    .dataframe tbody tr th:only-of-type {\n",
       "        vertical-align: middle;\n",
       "    }\n",
       "\n",
       "    .dataframe tbody tr th {\n",
       "        vertical-align: top;\n",
       "    }\n",
       "\n",
       "    .dataframe thead th {\n",
       "        text-align: right;\n",
       "    }\n",
       "</style>\n",
       "<table border=\"1\" class=\"dataframe\">\n",
       "  <thead>\n",
       "    <tr style=\"text-align: right;\">\n",
       "      <th></th>\n",
       "      <th>y</th>\n",
       "      <th>yc</th>\n",
       "      <th>xc_is_bad</th>\n",
       "      <th>xc_logit_code</th>\n",
       "      <th>xc_prevalence_code</th>\n",
       "      <th>xc_lev_level_1_0</th>\n",
       "      <th>xc_lev__NA_</th>\n",
       "      <th>xc_lev_level_-0_5</th>\n",
       "      <th>xc_lev_level_0_5</th>\n",
       "    </tr>\n",
       "  </thead>\n",
       "  <tbody>\n",
       "    <tr>\n",
       "      <th>0</th>\n",
       "      <td>-0.956311</td>\n",
       "      <td>False</td>\n",
       "      <td>1.0</td>\n",
       "      <td>-5.838582</td>\n",
       "      <td>0.218</td>\n",
       "      <td>0.0</td>\n",
       "      <td>1.0</td>\n",
       "      <td>0.0</td>\n",
       "      <td>0.0</td>\n",
       "    </tr>\n",
       "    <tr>\n",
       "      <th>1</th>\n",
       "      <td>-0.671564</td>\n",
       "      <td>False</td>\n",
       "      <td>0.0</td>\n",
       "      <td>-5.837275</td>\n",
       "      <td>0.206</td>\n",
       "      <td>0.0</td>\n",
       "      <td>0.0</td>\n",
       "      <td>1.0</td>\n",
       "      <td>0.0</td>\n",
       "    </tr>\n",
       "    <tr>\n",
       "      <th>2</th>\n",
       "      <td>0.906303</td>\n",
       "      <td>True</td>\n",
       "      <td>0.0</td>\n",
       "      <td>1.047934</td>\n",
       "      <td>0.280</td>\n",
       "      <td>1.0</td>\n",
       "      <td>0.0</td>\n",
       "      <td>0.0</td>\n",
       "      <td>0.0</td>\n",
       "    </tr>\n",
       "    <tr>\n",
       "      <th>3</th>\n",
       "      <td>0.222792</td>\n",
       "      <td>False</td>\n",
       "      <td>0.0</td>\n",
       "      <td>-5.790939</td>\n",
       "      <td>0.074</td>\n",
       "      <td>0.0</td>\n",
       "      <td>0.0</td>\n",
       "      <td>0.0</td>\n",
       "      <td>0.0</td>\n",
       "    </tr>\n",
       "    <tr>\n",
       "      <th>4</th>\n",
       "      <td>-0.975431</td>\n",
       "      <td>False</td>\n",
       "      <td>1.0</td>\n",
       "      <td>-5.837541</td>\n",
       "      <td>0.218</td>\n",
       "      <td>0.0</td>\n",
       "      <td>1.0</td>\n",
       "      <td>0.0</td>\n",
       "      <td>0.0</td>\n",
       "    </tr>\n",
       "  </tbody>\n",
       "</table>\n",
       "</div>"
      ],
      "text/plain": [
       "          y     yc  xc_is_bad  xc_logit_code  xc_prevalence_code  \\\n",
       "0 -0.956311  False        1.0      -5.838582               0.218   \n",
       "1 -0.671564  False        0.0      -5.837275               0.206   \n",
       "2  0.906303   True        0.0       1.047934               0.280   \n",
       "3  0.222792  False        0.0      -5.790939               0.074   \n",
       "4 -0.975431  False        1.0      -5.837541               0.218   \n",
       "\n",
       "   xc_lev_level_1_0  xc_lev__NA_  xc_lev_level_-0_5  xc_lev_level_0_5  \n",
       "0               0.0          1.0                0.0               0.0  \n",
       "1               0.0          0.0                1.0               0.0  \n",
       "2               1.0          0.0                0.0               0.0  \n",
       "3               0.0          0.0                0.0               0.0  \n",
       "4               0.0          1.0                0.0               0.0  "
      ]
     },
     "execution_count": 13,
     "metadata": {},
     "output_type": "execute_result"
    }
   ],
   "source": [
    "d_prepared.head()"
   ]
  },
  {
   "cell_type": "markdown",
   "metadata": {},
   "source": [
    "This is `vtreat`s default behavior; to include all variables in the prepared data, set the parameter `filter_to_recommended` to False, as we show later, in the *Parameters for `BinomialOutcomeTreatment`* section below."
   ]
  },
  {
   "cell_type": "markdown",
   "metadata": {},
   "source": [
    "## A Closer Look at `logit_code` variables\n",
    "\n",
    "Variables of type `logit_code` are the outputs of a one-variable hierarchical logistic regression of a categorical variable (in our example, `xc`) against the centered output on the (cross-validated) treated training data. \n",
    "\n",
    "Let's see whether `xc_logit_code` makes a good one-variable model for `yc`. It has a large AUC:"
   ]
  },
  {
   "cell_type": "code",
   "execution_count": 14,
   "metadata": {
    "collapsed": false,
    "jupyter": {
     "outputs_hidden": false
    },
    "pycharm": {
     "name": "#%%\n"
    }
   },
   "outputs": [
    {
     "data": {
      "image/png": "[encoded data removed]",
      "text/plain": [
       "<Figure size 432x288 with 1 Axes>"
      ]
     },
     "metadata": {
      "needs_background": "light"
     },
     "output_type": "display_data"
    },
    {
     "data": {
      "text/plain": [
       "0.9862945054945056"
      ]
     },
     "execution_count": 14,
     "metadata": {},
     "output_type": "execute_result"
    }
   ],
   "source": [
    "wvpy.util.plot_roc(prediction=d_prepared['xc_logit_code'], \n",
    "                   istrue=d_prepared['yc'],\n",
    "                   title = 'performance of xc_logit_code variable')"
   ]
  },
  {
   "cell_type": "markdown",
   "metadata": {},
   "source": [
    "This indicates that `xc_logit_code` is strongly predictive of the outcome. Negative values of `xc_logit_code` correspond strongly to negative outcomes, and positive values correspond strongly to positive outcomes."
   ]
  },
  {
   "cell_type": "code",
   "execution_count": 15,
   "metadata": {
    "collapsed": false,
    "jupyter": {
     "outputs_hidden": false
    },
    "pycharm": {
     "name": "#%%\n"
    }
   },
   "outputs": [
    {
     "data": {
      "image/png": "[encoded data removed]",
      "text/plain": [
       "<Figure size 432x288 with 1 Axes>"
      ]
     },
     "metadata": {
      "needs_background": "light"
     },
     "output_type": "display_data"
    }
   ],
   "source": [
    "wvpy.util.dual_density_plot(probs=d_prepared['xc_logit_code'], \n",
    "                            istrue=d_prepared['yc'])"
   ]
  },
  {
   "cell_type": "markdown",
   "metadata": {},
   "source": [
    "The values of `xc_logit_code` are in \"link space\". We can often visualize the relationship a little better by converting the logistic score to a probability."
   ]
  },
  {
   "cell_type": "code",
   "execution_count": 16,
   "metadata": {
    "collapsed": false,
    "jupyter": {
     "outputs_hidden": false
    },
    "pycharm": {
     "name": "#%%\n"
    }
   },
   "outputs": [
    {
     "data": {
      "image/png": "[encoded data removed]",
      "text/plain": [
       "<Figure size 432x288 with 1 Axes>"
      ]
     },
     "metadata": {
      "needs_background": "light"
     },
     "output_type": "display_data"
    }
   ],
   "source": [
    "from scipy.special import expit  # sigmoid\n",
    "from scipy.special import logit\n",
    "\n",
    "offset = logit(numpy.mean(d_prepared.yc))\n",
    "wvpy.util.dual_density_plot(probs=expit(d_prepared['xc_logit_code'] + offset),\n",
    "                            istrue=d_prepared['yc'])                                   "
   ]
  },
  {
   "cell_type": "markdown",
   "metadata": {},
   "source": [
    "Variables of type `logit_code` are useful when dealing with categorical variables with a very large number of possible levels. For example, a categorical variable with 10,000 possible values potentially converts to 10,000 indicator variables, which may be unwieldy for some modeling methods. Using a single numerical variable of type `logit_code` may be a preferable alternative."
   ]
  },
  {
   "cell_type": "markdown",
   "metadata": {},
   "source": [
    "## Using the Prepared Data in a Model\n",
    "\n",
    "Of course, what we really want to do with the prepared training data is to fit a model jointly with all the (recommended) variables. \n",
    "Let's try fitting a logistic regression model to `d_prepared`."
   ]
  },
  {
   "cell_type": "code",
   "execution_count": 17,
   "metadata": {
    "collapsed": false,
    "jupyter": {
     "outputs_hidden": false
    },
    "pycharm": {
     "name": "#%%\n"
    }
   },
   "outputs": [
    {
     "name": "stderr",
     "output_type": "stream",
     "text": [
      "/Users/johnmount/opt/anaconda3/envs/ai_academy_3_7/lib/python3.7/site-packages/sklearn/linear_model/logistic.py:432: FutureWarning: Default solver will be changed to 'lbfgs' in 0.22. Specify a solver to silence this warning.\n",
      "  FutureWarning)\n"
     ]
    },
    {
     "data": {
      "image/png": "[encoded data removed]",
      "text/plain": [
       "<Figure size 432x288 with 1 Axes>"
      ]
     },
     "metadata": {
      "needs_background": "light"
     },
     "output_type": "display_data"
    },
    {
     "data": {
      "text/plain": [
       "0.9862945054945055"
      ]
     },
     "execution_count": 17,
     "metadata": {},
     "output_type": "execute_result"
    }
   ],
   "source": [
    "import sklearn.linear_model\n",
    "import seaborn\n",
    "\n",
    "not_variables = ['y', 'yc', 'prediction']\n",
    "model_vars = [v for v in d_prepared.columns if v not in set(not_variables)]\n",
    "\n",
    "fitter = sklearn.linear_model.LogisticRegression()\n",
    "fitter.fit(d_prepared[model_vars], d_prepared['yc'])\n",
    "\n",
    "# now predict\n",
    "d_prepared['prediction'] = fitter.predict_proba(d_prepared[model_vars])[:, 1]\n",
    "\n",
    "# look at the ROC curve (on the training data)\n",
    "wvpy.util.plot_roc(prediction=d_prepared['prediction'], \n",
    "                   istrue=d_prepared['yc'],\n",
    "                   title = 'Performance of logistic regression model on training data')"
   ]
  },
  {
   "cell_type": "markdown",
   "metadata": {},
   "source": [
    "Now apply the model to new data."
   ]
  },
  {
   "cell_type": "code",
   "execution_count": 18,
   "metadata": {
    "collapsed": false,
    "jupyter": {
     "outputs_hidden": false
    },
    "pycharm": {
     "name": "#%%\n"
    }
   },
   "outputs": [
    {
     "data": {
      "image/png": "[encoded data removed]",
      "text/plain": [
       "<Figure size 432x288 with 1 Axes>"
      ]
     },
     "metadata": {
      "needs_background": "light"
     },
     "output_type": "display_data"
    },
    {
     "data": {
      "text/plain": [
       "0.9726541064569234"
      ]
     },
     "execution_count": 18,
     "metadata": {},
     "output_type": "execute_result"
    }
   ],
   "source": [
    "# create the new data\n",
    "dtest = make_data(450)\n",
    "\n",
    "# prepare the new data with vtreat\n",
    "dtest_prepared = transform.transform(dtest)\n",
    "\n",
    "# apply the model to the prepared data\n",
    "dtest_prepared['prediction'] = fitter.predict_proba(dtest_prepared[model_vars])[:, 1]\n",
    "\n",
    "wvpy.util.plot_roc(prediction=dtest_prepared['prediction'], \n",
    "                   istrue=dtest_prepared['yc'],\n",
    "                   title = 'Performance of logistic regression model on test data')"
   ]
  },
  {
   "cell_type": "markdown",
   "metadata": {},
   "source": [
    "## Parameters for `BinomialOutcomeTreatment`\n",
    "\n",
    "We've tried to set the defaults for all parameters so that `vtreat` is usable out of the box for most applications.\n"
   ]
  },
  {
   "cell_type": "code",
   "execution_count": 19,
   "metadata": {
    "collapsed": false,
    "jupyter": {
     "outputs_hidden": false
    },
    "pycharm": {
     "name": "#%%\n"
    }
   },
   "outputs": [
    {
     "data": {
      "text/plain": [
       "{'use_hierarchical_estimate': True,\n",
       " 'coders': {'clean_copy',\n",
       "  'deviation_code',\n",
       "  'impact_code',\n",
       "  'indicator_code',\n",
       "  'logit_code',\n",
       "  'missing_indicator',\n",
       "  'prevalence_code'},\n",
       " 'filter_to_recommended': True,\n",
       " 'indicator_min_fraction': 0.1,\n",
       " 'cross_validation_plan': vtreat.cross_plan.KWayCrossPlanYStratified(),\n",
       " 'cross_validation_k': 5,\n",
       " 'user_transforms': [],\n",
       " 'sparse_indicators': True,\n",
       " 'missingness_imputation': <function numpy.mean(a, axis=None, dtype=None, out=None, keepdims=<no value>)>,\n",
       " 'check_for_duplicate_frames': True}"
      ]
     },
     "execution_count": 19,
     "metadata": {},
     "output_type": "execute_result"
    }
   ],
   "source": [
    "vtreat.vtreat_parameters()"
   ]
  },
  {
   "cell_type": "markdown",
   "metadata": {},
   "source": [
    "**use_hierarchical_estimate:**: When True, uses hierarchical smoothing when estimating `logit_code` variables; when False, uses unsmoothed logistic regression.\n",
    "\n",
    "**coders**: The types of synthetic variables that `vtreat` will (potentially) produce. See *Types of prepared variables* below.\n",
    "\n",
    "**filter_to_recommended**: When True, prepared data only includes variables marked as \"recommended\" in score frame. When False, prepared data includes all variables. See the Example below.\n",
    "\n",
    "**indicator_min_fraction**: For categorical variables, indicator variables (type `indicator_code`) are only produced for levels that are present at least `indicator_min_fraction` of the time. A consequence of this is that 1/`indicator_min_fraction` is the maximum number of indicators that will be produced for a given categorical variable. To make sure that *all* possible indicator variables are produced, set `indicator_min_fraction = 0`\n",
    "\n",
    "**cross_validation_plan**: The cross validation method used by `vtreat`. Most people won't have to change this.\n",
    "\n",
    "**cross_validation_k**: The number of folds to use for cross-validation\n",
    "\n",
    "**user_transforms**: For passing in user-defined transforms for custom data preparation. Won't be needed in most situations, but see [here](https://github.com/WinVector/pyvtreat/blob/master/Examples/UserCoders/UserCoders.ipynb) for an example of applying a GAM transform to input variables.\n",
    "\n",
    "**sparse_indicators**: When True, use a (Pandas) sparse representation for indicator variables. This representation is compatible with `sklearn`; however, it may not be compatible with other modeling packages. When False, use a dense representation.\n",
    "\n",
    "**missingness_imputation** The function or value that `vtreat` uses to impute or \"fill in\" missing numerical values. The default is `numpy.mean()`. To change the imputation function or use different functions/values for different columns, see the [Imputation example](https://github.com/WinVector/pyvtreat/blob/master/Examples/Imputation/Imputation.ipynb).\n",
    "\n",
    "### Example: Use all variables to model, not just recommended"
   ]
  },
  {
   "cell_type": "code",
   "execution_count": 20,
   "metadata": {
    "collapsed": false,
    "jupyter": {
     "outputs_hidden": false
    },
    "pycharm": {
     "name": "#%%\n"
    }
   },
   "outputs": [
    {
     "data": {
      "text/plain": [
       "Index(['y', 'yc', 'x_is_bad', 'xc_is_bad', 'x', 'x2', 'xc_logit_code',\n",
       "       'xc_prevalence_code', 'xc_lev_level_1_0', 'xc_lev__NA_',\n",
       "       'xc_lev_level_-0_5', 'xc_lev_level_0_5'],\n",
       "      dtype='object')"
      ]
     },
     "execution_count": 20,
     "metadata": {},
     "output_type": "execute_result"
    }
   ],
   "source": [
    "transform_all = vtreat.BinomialOutcomeTreatment(\n",
    "    outcome_name='yc',    # outcome variable\n",
    "    outcome_target=True,  # outcome of interest\n",
    "    cols_to_copy=['y'],   # columns to \"carry along\" but not treat as input variables\n",
    "    params = vtreat.vtreat_parameters({\n",
    "        'filter_to_recommended': False\n",
    "    })\n",
    ")  \n",
    "\n",
    "transform_all.fit_transform(d, d['yc']).columns"
   ]
  },
  {
   "cell_type": "code",
   "execution_count": 21,
   "metadata": {
    "collapsed": false,
    "jupyter": {
     "outputs_hidden": false
    },
    "pycharm": {
     "name": "#%%\n"
    }
   },
   "outputs": [
    {
     "data": {
      "text/html": [
       "<div>\n",
       "<style scoped>\n",
       "    .dataframe tbody tr th:only-of-type {\n",
       "        vertical-align: middle;\n",
       "    }\n",
       "\n",
       "    .dataframe tbody tr th {\n",
       "        vertical-align: top;\n",
       "    }\n",
       "\n",
       "    .dataframe thead th {\n",
       "        text-align: right;\n",
       "    }\n",
       "</style>\n",
       "<table border=\"1\" class=\"dataframe\">\n",
       "  <thead>\n",
       "    <tr style=\"text-align: right;\">\n",
       "      <th></th>\n",
       "      <th>variable</th>\n",
       "      <th>orig_variable</th>\n",
       "      <th>treatment</th>\n",
       "      <th>y_aware</th>\n",
       "      <th>has_range</th>\n",
       "      <th>PearsonR</th>\n",
       "      <th>R2</th>\n",
       "      <th>significance</th>\n",
       "      <th>vcount</th>\n",
       "      <th>default_threshold</th>\n",
       "      <th>recommended</th>\n",
       "    </tr>\n",
       "  </thead>\n",
       "  <tbody>\n",
       "    <tr>\n",
       "      <th>0</th>\n",
       "      <td>x_is_bad</td>\n",
       "      <td>x</td>\n",
       "      <td>missing_indicator</td>\n",
       "      <td>False</td>\n",
       "      <td>True</td>\n",
       "      <td>-0.051749</td>\n",
       "      <td>0.002388</td>\n",
       "      <td>2.137073e-01</td>\n",
       "      <td>2.0</td>\n",
       "      <td>0.10</td>\n",
       "      <td>False</td>\n",
       "    </tr>\n",
       "    <tr>\n",
       "      <th>1</th>\n",
       "      <td>xc_is_bad</td>\n",
       "      <td>xc</td>\n",
       "      <td>missing_indicator</td>\n",
       "      <td>False</td>\n",
       "      <td>True</td>\n",
       "      <td>-0.387438</td>\n",
       "      <td>0.169454</td>\n",
       "      <td>1.132743e-25</td>\n",
       "      <td>2.0</td>\n",
       "      <td>0.10</td>\n",
       "      <td>True</td>\n",
       "    </tr>\n",
       "    <tr>\n",
       "      <th>2</th>\n",
       "      <td>x</td>\n",
       "      <td>x</td>\n",
       "      <td>clean_copy</td>\n",
       "      <td>False</td>\n",
       "      <td>True</td>\n",
       "      <td>0.052826</td>\n",
       "      <td>0.002158</td>\n",
       "      <td>2.371412e-01</td>\n",
       "      <td>2.0</td>\n",
       "      <td>0.10</td>\n",
       "      <td>False</td>\n",
       "    </tr>\n",
       "    <tr>\n",
       "      <th>3</th>\n",
       "      <td>x2</td>\n",
       "      <td>x2</td>\n",
       "      <td>clean_copy</td>\n",
       "      <td>False</td>\n",
       "      <td>True</td>\n",
       "      <td>0.069126</td>\n",
       "      <td>0.003709</td>\n",
       "      <td>1.212047e-01</td>\n",
       "      <td>2.0</td>\n",
       "      <td>0.10</td>\n",
       "      <td>False</td>\n",
       "    </tr>\n",
       "    <tr>\n",
       "      <th>4</th>\n",
       "      <td>xc_logit_code</td>\n",
       "      <td>xc</td>\n",
       "      <td>logit_code</td>\n",
       "      <td>True</td>\n",
       "      <td>True</td>\n",
       "      <td>0.867909</td>\n",
       "      <td>0.831237</td>\n",
       "      <td>4.687905e-119</td>\n",
       "      <td>1.0</td>\n",
       "      <td>0.20</td>\n",
       "      <td>True</td>\n",
       "    </tr>\n",
       "    <tr>\n",
       "      <th>5</th>\n",
       "      <td>xc_prevalence_code</td>\n",
       "      <td>xc</td>\n",
       "      <td>prevalence_code</td>\n",
       "      <td>False</td>\n",
       "      <td>True</td>\n",
       "      <td>0.567968</td>\n",
       "      <td>0.341474</td>\n",
       "      <td>5.241952e-50</td>\n",
       "      <td>1.0</td>\n",
       "      <td>0.20</td>\n",
       "      <td>True</td>\n",
       "    </tr>\n",
       "    <tr>\n",
       "      <th>6</th>\n",
       "      <td>xc_lev_level_1_0</td>\n",
       "      <td>xc</td>\n",
       "      <td>indicator_code</td>\n",
       "      <td>False</td>\n",
       "      <td>True</td>\n",
       "      <td>0.849837</td>\n",
       "      <td>0.645323</td>\n",
       "      <td>7.304511e-93</td>\n",
       "      <td>4.0</td>\n",
       "      <td>0.05</td>\n",
       "      <td>True</td>\n",
       "    </tr>\n",
       "    <tr>\n",
       "      <th>7</th>\n",
       "      <td>xc_lev__NA_</td>\n",
       "      <td>xc</td>\n",
       "      <td>indicator_code</td>\n",
       "      <td>False</td>\n",
       "      <td>True</td>\n",
       "      <td>-0.387438</td>\n",
       "      <td>0.169454</td>\n",
       "      <td>1.132743e-25</td>\n",
       "      <td>4.0</td>\n",
       "      <td>0.05</td>\n",
       "      <td>True</td>\n",
       "    </tr>\n",
       "    <tr>\n",
       "      <th>8</th>\n",
       "      <td>xc_lev_level_-0_5</td>\n",
       "      <td>xc</td>\n",
       "      <td>indicator_code</td>\n",
       "      <td>False</td>\n",
       "      <td>True</td>\n",
       "      <td>-0.373767</td>\n",
       "      <td>0.158569</td>\n",
       "      <td>3.968788e-24</td>\n",
       "      <td>4.0</td>\n",
       "      <td>0.05</td>\n",
       "      <td>True</td>\n",
       "    </tr>\n",
       "    <tr>\n",
       "      <th>9</th>\n",
       "      <td>xc_lev_level_0_5</td>\n",
       "      <td>xc</td>\n",
       "      <td>indicator_code</td>\n",
       "      <td>False</td>\n",
       "      <td>True</td>\n",
       "      <td>0.102752</td>\n",
       "      <td>0.007894</td>\n",
       "      <td>2.377379e-02</td>\n",
       "      <td>4.0</td>\n",
       "      <td>0.05</td>\n",
       "      <td>True</td>\n",
       "    </tr>\n",
       "  </tbody>\n",
       "</table>\n",
       "</div>"
      ],
      "text/plain": [
       "             variable orig_variable          treatment  y_aware  has_range  \\\n",
       "0            x_is_bad             x  missing_indicator    False       True   \n",
       "1           xc_is_bad            xc  missing_indicator    False       True   \n",
       "2                   x             x         clean_copy    False       True   \n",
       "3                  x2            x2         clean_copy    False       True   \n",
       "4       xc_logit_code            xc         logit_code     True       True   \n",
       "5  xc_prevalence_code            xc    prevalence_code    False       True   \n",
       "6    xc_lev_level_1_0            xc     indicator_code    False       True   \n",
       "7         xc_lev__NA_            xc     indicator_code    False       True   \n",
       "8   xc_lev_level_-0_5            xc     indicator_code    False       True   \n",
       "9    xc_lev_level_0_5            xc     indicator_code    False       True   \n",
       "\n",
       "   PearsonR        R2   significance  vcount  default_threshold  recommended  \n",
       "0 -0.051749  0.002388   2.137073e-01     2.0               0.10        False  \n",
       "1 -0.387438  0.169454   1.132743e-25     2.0               0.10         True  \n",
       "2  0.052826  0.002158   2.371412e-01     2.0               0.10        False  \n",
       "3  0.069126  0.003709   1.212047e-01     2.0               0.10        False  \n",
       "4  0.867909  0.831237  4.687905e-119     1.0               0.20         True  \n",
       "5  0.567968  0.341474   5.241952e-50     1.0               0.20         True  \n",
       "6  0.849837  0.645323   7.304511e-93     4.0               0.05         True  \n",
       "7 -0.387438  0.169454   1.132743e-25     4.0               0.05         True  \n",
       "8 -0.373767  0.158569   3.968788e-24     4.0               0.05         True  \n",
       "9  0.102752  0.007894   2.377379e-02     4.0               0.05         True  "
      ]
     },
     "execution_count": 21,
     "metadata": {},
     "output_type": "execute_result"
    }
   ],
   "source": [
    "transform_all.score_frame_"
   ]
  },
  {
   "cell_type": "markdown",
   "metadata": {},
   "source": [
    "Note that the prepared data produced by `fit_transform()` includes all the variables, including those that were not marked as \"recommended\". \n",
    "\n",
    "## Types of prepared variables\n",
    "\n",
    "**clean_copy**: Produced from numerical variables: a clean numerical variable with no `NaNs` or missing values\n",
    "\n",
    "**indicator_code**: Produced from categorical variables, one for each (common) level: for each level of the variable, indicates if that level was \"on\"\n",
    "\n",
    "**prevalence_code**: Produced from categorical variables: indicates how often each level of the variable was \"on\"\n",
    "\n",
    "**logit_code**: Produced from categorical variables: score from a one-dimensional model of the centered output as a function of the variable\n",
    "\n",
    "**missing_indicator**: Produced for both numerical and categorical variables: an indicator variable that marks when the original variable was missing or  `NaN`\n",
    "\n",
    "**deviation_code**: not used by `BinomialOutcomeTreatment`\n",
    "\n",
    "**impact_code**: not used by `BinomialOutcomeTreatment`\n",
    "\n",
    "### Example: Produce only a subset of variable types\n",
    "\n",
    "In this example, suppose you only want to use indicators and continuous variables in your model; \n",
    "in other words, you only want to use variables of types (`clean_copy`, `missing_indicator`, and `indicator_code`), and no `logit_code` or `prevalence_code` variables."
   ]
  },
  {
   "cell_type": "code",
   "execution_count": 22,
   "metadata": {
    "collapsed": false,
    "jupyter": {
     "outputs_hidden": false
    },
    "pycharm": {
     "name": "#%%\n"
    }
   },
   "outputs": [
    {
     "data": {
      "text/html": [
       "<div>\n",
       "<style scoped>\n",
       "    .dataframe tbody tr th:only-of-type {\n",
       "        vertical-align: middle;\n",
       "    }\n",
       "\n",
       "    .dataframe tbody tr th {\n",
       "        vertical-align: top;\n",
       "    }\n",
       "\n",
       "    .dataframe thead th {\n",
       "        text-align: right;\n",
       "    }\n",
       "</style>\n",
       "<table border=\"1\" class=\"dataframe\">\n",
       "  <thead>\n",
       "    <tr style=\"text-align: right;\">\n",
       "      <th></th>\n",
       "      <th>y</th>\n",
       "      <th>yc</th>\n",
       "      <th>x_is_bad</th>\n",
       "      <th>xc_is_bad</th>\n",
       "      <th>x</th>\n",
       "      <th>x2</th>\n",
       "      <th>xc_lev_level_1_0</th>\n",
       "      <th>xc_lev__NA_</th>\n",
       "      <th>xc_lev_level_-0_5</th>\n",
       "      <th>xc_lev_level_0_5</th>\n",
       "    </tr>\n",
       "  </thead>\n",
       "  <tbody>\n",
       "    <tr>\n",
       "      <th>0</th>\n",
       "      <td>-0.956311</td>\n",
       "      <td>False</td>\n",
       "      <td>0.0</td>\n",
       "      <td>1.0</td>\n",
       "      <td>-1.088395</td>\n",
       "      <td>-1.424184</td>\n",
       "      <td>0.0</td>\n",
       "      <td>1.0</td>\n",
       "      <td>0.0</td>\n",
       "      <td>0.0</td>\n",
       "    </tr>\n",
       "    <tr>\n",
       "      <th>1</th>\n",
       "      <td>-0.671564</td>\n",
       "      <td>False</td>\n",
       "      <td>0.0</td>\n",
       "      <td>0.0</td>\n",
       "      <td>4.107277</td>\n",
       "      <td>0.427360</td>\n",
       "      <td>0.0</td>\n",
       "      <td>0.0</td>\n",
       "      <td>1.0</td>\n",
       "      <td>0.0</td>\n",
       "    </tr>\n",
       "    <tr>\n",
       "      <th>2</th>\n",
       "      <td>0.906303</td>\n",
       "      <td>True</td>\n",
       "      <td>0.0</td>\n",
       "      <td>0.0</td>\n",
       "      <td>7.406389</td>\n",
       "      <td>0.668849</td>\n",
       "      <td>1.0</td>\n",
       "      <td>0.0</td>\n",
       "      <td>0.0</td>\n",
       "      <td>0.0</td>\n",
       "    </tr>\n",
       "    <tr>\n",
       "      <th>3</th>\n",
       "      <td>0.222792</td>\n",
       "      <td>False</td>\n",
       "      <td>1.0</td>\n",
       "      <td>0.0</td>\n",
       "      <td>-0.057044</td>\n",
       "      <td>-0.015787</td>\n",
       "      <td>0.0</td>\n",
       "      <td>0.0</td>\n",
       "      <td>0.0</td>\n",
       "      <td>0.0</td>\n",
       "    </tr>\n",
       "    <tr>\n",
       "      <th>4</th>\n",
       "      <td>-0.975431</td>\n",
       "      <td>False</td>\n",
       "      <td>1.0</td>\n",
       "      <td>1.0</td>\n",
       "      <td>-0.057044</td>\n",
       "      <td>-0.491017</td>\n",
       "      <td>0.0</td>\n",
       "      <td>1.0</td>\n",
       "      <td>0.0</td>\n",
       "      <td>0.0</td>\n",
       "    </tr>\n",
       "  </tbody>\n",
       "</table>\n",
       "</div>"
      ],
      "text/plain": [
       "          y     yc  x_is_bad  xc_is_bad         x        x2  xc_lev_level_1_0  \\\n",
       "0 -0.956311  False       0.0        1.0 -1.088395 -1.424184               0.0   \n",
       "1 -0.671564  False       0.0        0.0  4.107277  0.427360               0.0   \n",
       "2  0.906303   True       0.0        0.0  7.406389  0.668849               1.0   \n",
       "3  0.222792  False       1.0        0.0 -0.057044 -0.015787               0.0   \n",
       "4 -0.975431  False       1.0        1.0 -0.057044 -0.491017               0.0   \n",
       "\n",
       "   xc_lev__NA_  xc_lev_level_-0_5  xc_lev_level_0_5  \n",
       "0          1.0                0.0               0.0  \n",
       "1          0.0                1.0               0.0  \n",
       "2          0.0                0.0               0.0  \n",
       "3          0.0                0.0               0.0  \n",
       "4          1.0                0.0               0.0  "
      ]
     },
     "execution_count": 22,
     "metadata": {},
     "output_type": "execute_result"
    }
   ],
   "source": [
    "transform_thin = vtreat.BinomialOutcomeTreatment(\n",
    "    outcome_name='yc',    # outcome variable\n",
    "    outcome_target=True,  # outcome of interest\n",
    "    cols_to_copy=['y'],   # columns to \"carry along\" but not treat as input variables\n",
    "    params = vtreat.vtreat_parameters({\n",
    "        'filter_to_recommended': False,\n",
    "        'coders': {'clean_copy',\n",
    "                   'missing_indicator',\n",
    "                   'indicator_code',\n",
    "                  }\n",
    "    })\n",
    ")\n",
    "\n",
    "transform_thin.fit_transform(d, d['yc']).head()"
   ]
  },
  {
   "cell_type": "code",
   "execution_count": 23,
   "metadata": {
    "collapsed": false,
    "jupyter": {
     "outputs_hidden": false
    },
    "pycharm": {
     "name": "#%%\n"
    }
   },
   "outputs": [
    {
     "data": {
      "text/html": [
       "<div>\n",
       "<style scoped>\n",
       "    .dataframe tbody tr th:only-of-type {\n",
       "        vertical-align: middle;\n",
       "    }\n",
       "\n",
       "    .dataframe tbody tr th {\n",
       "        vertical-align: top;\n",
       "    }\n",
       "\n",
       "    .dataframe thead th {\n",
       "        text-align: right;\n",
       "    }\n",
       "</style>\n",
       "<table border=\"1\" class=\"dataframe\">\n",
       "  <thead>\n",
       "    <tr style=\"text-align: right;\">\n",
       "      <th></th>\n",
       "      <th>variable</th>\n",
       "      <th>orig_variable</th>\n",
       "      <th>treatment</th>\n",
       "      <th>y_aware</th>\n",
       "      <th>has_range</th>\n",
       "      <th>PearsonR</th>\n",
       "      <th>R2</th>\n",
       "      <th>significance</th>\n",
       "      <th>vcount</th>\n",
       "      <th>default_threshold</th>\n",
       "      <th>recommended</th>\n",
       "    </tr>\n",
       "  </thead>\n",
       "  <tbody>\n",
       "    <tr>\n",
       "      <th>0</th>\n",
       "      <td>x_is_bad</td>\n",
       "      <td>x</td>\n",
       "      <td>missing_indicator</td>\n",
       "      <td>False</td>\n",
       "      <td>True</td>\n",
       "      <td>-0.051749</td>\n",
       "      <td>0.002388</td>\n",
       "      <td>2.137073e-01</td>\n",
       "      <td>2.0</td>\n",
       "      <td>0.166667</td>\n",
       "      <td>False</td>\n",
       "    </tr>\n",
       "    <tr>\n",
       "      <th>1</th>\n",
       "      <td>xc_is_bad</td>\n",
       "      <td>xc</td>\n",
       "      <td>missing_indicator</td>\n",
       "      <td>False</td>\n",
       "      <td>True</td>\n",
       "      <td>-0.387438</td>\n",
       "      <td>0.169454</td>\n",
       "      <td>1.132743e-25</td>\n",
       "      <td>2.0</td>\n",
       "      <td>0.166667</td>\n",
       "      <td>True</td>\n",
       "    </tr>\n",
       "    <tr>\n",
       "      <th>2</th>\n",
       "      <td>x</td>\n",
       "      <td>x</td>\n",
       "      <td>clean_copy</td>\n",
       "      <td>False</td>\n",
       "      <td>True</td>\n",
       "      <td>0.052826</td>\n",
       "      <td>0.002158</td>\n",
       "      <td>2.371412e-01</td>\n",
       "      <td>2.0</td>\n",
       "      <td>0.166667</td>\n",
       "      <td>False</td>\n",
       "    </tr>\n",
       "    <tr>\n",
       "      <th>3</th>\n",
       "      <td>x2</td>\n",
       "      <td>x2</td>\n",
       "      <td>clean_copy</td>\n",
       "      <td>False</td>\n",
       "      <td>True</td>\n",
       "      <td>0.069126</td>\n",
       "      <td>0.003709</td>\n",
       "      <td>1.212047e-01</td>\n",
       "      <td>2.0</td>\n",
       "      <td>0.166667</td>\n",
       "      <td>True</td>\n",
       "    </tr>\n",
       "    <tr>\n",
       "      <th>4</th>\n",
       "      <td>xc_lev_level_1_0</td>\n",
       "      <td>xc</td>\n",
       "      <td>indicator_code</td>\n",
       "      <td>False</td>\n",
       "      <td>True</td>\n",
       "      <td>0.849837</td>\n",
       "      <td>0.645323</td>\n",
       "      <td>7.304511e-93</td>\n",
       "      <td>4.0</td>\n",
       "      <td>0.083333</td>\n",
       "      <td>True</td>\n",
       "    </tr>\n",
       "    <tr>\n",
       "      <th>5</th>\n",
       "      <td>xc_lev__NA_</td>\n",
       "      <td>xc</td>\n",
       "      <td>indicator_code</td>\n",
       "      <td>False</td>\n",
       "      <td>True</td>\n",
       "      <td>-0.387438</td>\n",
       "      <td>0.169454</td>\n",
       "      <td>1.132743e-25</td>\n",
       "      <td>4.0</td>\n",
       "      <td>0.083333</td>\n",
       "      <td>True</td>\n",
       "    </tr>\n",
       "    <tr>\n",
       "      <th>6</th>\n",
       "      <td>xc_lev_level_-0_5</td>\n",
       "      <td>xc</td>\n",
       "      <td>indicator_code</td>\n",
       "      <td>False</td>\n",
       "      <td>True</td>\n",
       "      <td>-0.373767</td>\n",
       "      <td>0.158569</td>\n",
       "      <td>3.968788e-24</td>\n",
       "      <td>4.0</td>\n",
       "      <td>0.083333</td>\n",
       "      <td>True</td>\n",
       "    </tr>\n",
       "    <tr>\n",
       "      <th>7</th>\n",
       "      <td>xc_lev_level_0_5</td>\n",
       "      <td>xc</td>\n",
       "      <td>indicator_code</td>\n",
       "      <td>False</td>\n",
       "      <td>True</td>\n",
       "      <td>0.102752</td>\n",
       "      <td>0.007894</td>\n",
       "      <td>2.377379e-02</td>\n",
       "      <td>4.0</td>\n",
       "      <td>0.083333</td>\n",
       "      <td>True</td>\n",
       "    </tr>\n",
       "  </tbody>\n",
       "</table>\n",
       "</div>"
      ],
      "text/plain": [
       "            variable orig_variable          treatment  y_aware  has_range  \\\n",
       "0           x_is_bad             x  missing_indicator    False       True   \n",
       "1          xc_is_bad            xc  missing_indicator    False       True   \n",
       "2                  x             x         clean_copy    False       True   \n",
       "3                 x2            x2         clean_copy    False       True   \n",
       "4   xc_lev_level_1_0            xc     indicator_code    False       True   \n",
       "5        xc_lev__NA_            xc     indicator_code    False       True   \n",
       "6  xc_lev_level_-0_5            xc     indicator_code    False       True   \n",
       "7   xc_lev_level_0_5            xc     indicator_code    False       True   \n",
       "\n",
       "   PearsonR        R2  significance  vcount  default_threshold  recommended  \n",
       "0 -0.051749  0.002388  2.137073e-01     2.0           0.166667        False  \n",
       "1 -0.387438  0.169454  1.132743e-25     2.0           0.166667         True  \n",
       "2  0.052826  0.002158  2.371412e-01     2.0           0.166667        False  \n",
       "3  0.069126  0.003709  1.212047e-01     2.0           0.166667         True  \n",
       "4  0.849837  0.645323  7.304511e-93     4.0           0.083333         True  \n",
       "5 -0.387438  0.169454  1.132743e-25     4.0           0.083333         True  \n",
       "6 -0.373767  0.158569  3.968788e-24     4.0           0.083333         True  \n",
       "7  0.102752  0.007894  2.377379e-02     4.0           0.083333         True  "
      ]
     },
     "execution_count": 23,
     "metadata": {},
     "output_type": "execute_result"
    }
   ],
   "source": [
    "transform_thin.score_frame_"
   ]
  },
  {
   "cell_type": "markdown",
   "metadata": {},
   "source": [
    "## Deriving the Default Thresholds\n",
    "\n",
    "While machine learning algorithms are generally tolerant to a reasonable number of irrelevant or noise variables, too many irrelevant variables can lead to serious overfit; see [this article](http://www.win-vector.com/blog/2014/02/bad-bayes-an-example-of-why-you-need-hold-out-testing/) for an extreme example, one we call \"Bad Bayes\". The default threshold is an attempt to eliminate obviously irrelevant variables early.\n",
    "\n",
    "Imagine that you have a pure noise dataset, where none of the *n* inputs are related to the output. If you treat each variable as a one-variable model for the output, and look at the significances of each model, these significance-values will be uniformly distributed in the range [0:1]. You want to pick a weakest possible significance threshold that eliminates as many noise variables as possible. A moment's thought should convince you that a threshold of *1/n* allows only one variable through, in expectation. \n",
    "\n",
    "This leads to the general-case heuristic that a significance threshold of *1/n* on your variables should allow only one irrelevant variable through, in expectation (along with all the relevant variables). Hence, *1/n* used to be our recommended threshold, when we developed the R version of `vtreat`.\n",
    "\n",
    "We noticed, however, that this biases the filtering against numerical variables, since there are at most two derived variables (of types *clean_copy* and *missing_indicator* for every numerical variable in the original data. Categorical variables, on the other hand, are expanded to many derived variables: several indicators (one for every common level), plus a *logit_code* and a *prevalence_code*. So we now reweight the thresholds. \n",
    "\n",
    "Suppose you have a (treated) data set with *ntreat* different types of `vtreat` variables (`clean_copy`, `indicator_code`, etc).\n",
    "There are *nT* variables of type *T*. Then the default threshold for all the variables of type *T* is *1/(ntreat nT)*. This reweighting  helps to reduce the bias against any particular type of variable. The heuristic is still that the set of recommended variables will allow at most one noise variable into the set of candidate variables.\n",
    "\n",
    "As noted above, because `vtreat` estimates variable significances using linear methods by default, some variables with a non-linear relationship  to the output may fail to pass the threshold. Setting the `filter_to_recommended` parameter to False will keep all derived variables in the treated frame, for the data scientist to filter (or not) as they will.\n",
    "\n"
   ]
  },
  {
   "cell_type": "markdown",
   "metadata": {},
   "source": [
    "## Conclusion\n",
    "\n",
    "In all cases (classification, regression, unsupervised, and multinomial classification) the intent is that `vtreat` transforms are essentially one liners.\n",
    "\n",
    "The preparation commands are organized as follows:\n",
    "\n",
    " * **Regression**: [`R` regression example](https://github.com/WinVector/vtreat/blob/master/Examples/Regression/Regression.md), [`Python` regression example](https://github.com/WinVector/pyvtreat/blob/master/Examples/Regression/Regression.md).\n",
    " * **Classification**: [`R` classification example](https://github.com/WinVector/vtreat/blob/master/Examples/Classification/Classification.md), [`Python` classification  example](https://github.com/WinVector/pyvtreat/blob/master/Examples/Classification/Classification.md).\n",
    " * **Unsupervised tasks**: [`R` unsupervised example](https://github.com/WinVector/vtreat/blob/master/Examples/Unsupervised/Unsupervised.md), [`Python` unsupervised example](https://github.com/WinVector/pyvtreat/blob/master/Examples/Unsupervised/Unsupervised.md).\n",
    " * **Multinomial classification**: [`R` multinomial classification example](https://github.com/WinVector/vtreat/blob/master/Examples/Multinomial/MultinomialExample.md), [`Python` multinomial classification example](https://github.com/WinVector/pyvtreat/blob/master/Examples/Multinomial/MultinomialExample.md).\n",
    "\n",
    "Some `vtreat` common capabilities are documented here:\n",
    "\n",
    "  * **Score Frame** [score_frame_](https://github.com/WinVector/pyvtreat/blob/master/Examples/ScoreFrame/ScoreFrame.md), using the `score_frame_` information.\n",
    "  * **Cross Validation** [Customized Cross Plans](https://github.com/WinVector/pyvtreat/blob/master/Examples/CustomizedCrossPlan/CustomizedCrossPlan.md), controlling the cross validation plan.\n",
    "\n",
    "These current revisions of the examples are designed to be small, yet complete.  So as a set they have some overlap, but the user can rely mostly on a single example for a single task type."
   ]
  },
  {
   "cell_type": "code",
   "execution_count": null,
   "metadata": {},
   "outputs": [],
   "source": []
  }
 ],
 "metadata": {
  "kernelspec": {
   "display_name": "Python 3",
   "language": "python",
   "name": "python3"
  },
  "language_info": {
   "codemirror_mode": {
    "name": "ipython",
    "version": 3
   },
   "file_extension": ".py",
   "mimetype": "text/x-python",
   "name": "python",
   "nbconvert_exporter": "python",
   "pygments_lexer": "ipython3",
   "version": "3.7.5"
  },
  "pycharm": {
   "stem_cell": {
    "cell_type": "raw",
    "metadata": {
     "collapsed": false
    },
    "source": []
   }
  }
 },
 "nbformat": 4,
 "nbformat_minor": 4
}
