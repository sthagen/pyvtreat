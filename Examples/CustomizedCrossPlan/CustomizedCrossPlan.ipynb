{
 "cells": [
  {
   "cell_type": "markdown",
   "metadata": {
    "pycharm": {
     "is_executing": false
    }
   },
   "source": [
    "Nina Zumel, John Mount\n",
    "March 2020\n",
    "\n",
    "[These](https://github.com/WinVector/pyvtreat/blob/master/Examples/CustomizedCrossPlan/CustomizedCrossPlan.md) are notes on controlling the cross-validation plan in the [`Python` version of `vtreat`](https://github.com/WinVector/pyvtreat), for notes on the [`R` version of `vtreat`](https://github.com/WinVector/vtreat), please see [here](https://github.com/WinVector/vtreat/blob/master/Examples/CustomizedCrossPlan/CustomizedCrossPlan.md).\n",
    "\n",
    "# Using Custom Cross-Validation Plans with `vtreat`\n",
    "\n",
    "By default, `Python` `vtreat` uses a y-stratified randomized k-way cross validation when creating and evaluating complex synthetic variables. This will work well for the majority of applications. However, there may be times when you need a more specialized cross validation scheme for your modeling projects. In this document, we'll show how to replace the cross validation scheme in `vtreat`."
   ]
  },
  {
   "cell_type": "code",
   "execution_count": 1,
   "metadata": {
    "pycharm": {
     "is_executing": false
    }
   },
   "outputs": [],
   "source": [
    "import pandas\n",
    "import numpy\n",
    "import numpy.random\n",
    "\n",
    "import vtreat\n",
    "import vtreat.cross_plan"
   ]
  },
  {
   "cell_type": "markdown",
   "metadata": {},
   "source": [
    "## Example: Highly Unbalanced Class Outcomes\n",
    "\n",
    "As an example, suppose you have data where the target class of interest is relatively rare; in this case about 5%:"
   ]
  },
  {
   "cell_type": "code",
   "execution_count": 2,
   "metadata": {
    "collapsed": false,
    "jupyter": {
     "outputs_hidden": false
    },
    "pycharm": {
     "is_executing": false,
     "name": "#%%\n"
    }
   },
   "outputs": [
    {
     "data": {
      "text/html": [
       "<div>\n",
       "<style scoped>\n",
       "    .dataframe tbody tr th:only-of-type {\n",
       "        vertical-align: middle;\n",
       "    }\n",
       "\n",
       "    .dataframe tbody tr th {\n",
       "        vertical-align: top;\n",
       "    }\n",
       "\n",
       "    .dataframe thead th {\n",
       "        text-align: right;\n",
       "    }\n",
       "</style>\n",
       "<table border=\"1\" class=\"dataframe\">\n",
       "  <thead>\n",
       "    <tr style=\"text-align: right;\">\n",
       "      <th></th>\n",
       "      <th>x</th>\n",
       "      <th>y</th>\n",
       "    </tr>\n",
       "  </thead>\n",
       "  <tbody>\n",
       "    <tr>\n",
       "      <th>count</th>\n",
       "      <td>1000.000000</td>\n",
       "      <td>1000.000000</td>\n",
       "    </tr>\n",
       "    <tr>\n",
       "      <th>mean</th>\n",
       "      <td>-0.033441</td>\n",
       "      <td>0.054000</td>\n",
       "    </tr>\n",
       "    <tr>\n",
       "      <th>std</th>\n",
       "      <td>0.974859</td>\n",
       "      <td>0.226131</td>\n",
       "    </tr>\n",
       "    <tr>\n",
       "      <th>min</th>\n",
       "      <td>-2.870341</td>\n",
       "      <td>0.000000</td>\n",
       "    </tr>\n",
       "    <tr>\n",
       "      <th>25%</th>\n",
       "      <td>-0.693371</td>\n",
       "      <td>0.000000</td>\n",
       "    </tr>\n",
       "    <tr>\n",
       "      <th>50%</th>\n",
       "      <td>-0.033076</td>\n",
       "      <td>0.000000</td>\n",
       "    </tr>\n",
       "    <tr>\n",
       "      <th>75%</th>\n",
       "      <td>0.593758</td>\n",
       "      <td>0.000000</td>\n",
       "    </tr>\n",
       "    <tr>\n",
       "      <th>max</th>\n",
       "      <td>3.099762</td>\n",
       "      <td>1.000000</td>\n",
       "    </tr>\n",
       "  </tbody>\n",
       "</table>\n",
       "</div>"
      ],
      "text/plain": [
       "                 x            y\n",
       "count  1000.000000  1000.000000\n",
       "mean     -0.033441     0.054000\n",
       "std       0.974859     0.226131\n",
       "min      -2.870341     0.000000\n",
       "25%      -0.693371     0.000000\n",
       "50%      -0.033076     0.000000\n",
       "75%       0.593758     0.000000\n",
       "max       3.099762     1.000000"
      ]
     },
     "execution_count": 2,
     "metadata": {},
     "output_type": "execute_result"
    }
   ],
   "source": [
    "n_row = 1000\n",
    "\n",
    "numpy.random.seed(2020)\n",
    "\n",
    "d = pandas.DataFrame({\n",
    "    'x': numpy.random.normal(size=n_row),\n",
    "    'y': numpy.random.binomial(size=n_row, p=0.05, n=1)\n",
    "})\n",
    "\n",
    "d.describe()"
   ]
  },
  {
   "cell_type": "markdown",
   "metadata": {},
   "source": [
    "First, try preparing this data using `vtreat`.\n",
    "\n",
    "By default, `Python` `vtreat` uses a `y`-stratified randomized k-way cross validation when creating and evaluating complex synthetic variables. \n",
    "\n",
    "Here we start with the default `k`-way y-stratified cross validation plan. This will work well for the majority of applications. However, there may be times when you need a more specialized cross validation scheme for your modeling projects. In this document, we'll show how to replace the cross validation scheme in `vtreat`."
   ]
  },
  {
   "cell_type": "code",
   "execution_count": 3,
   "metadata": {
    "pycharm": {
     "is_executing": false
    }
   },
   "outputs": [],
   "source": [
    "#\n",
    "# create the treatment plan\n",
    "#\n",
    "\n",
    "k = 5 # number of cross-val folds (actually, the default)\n",
    "treatment_stratified = vtreat.BinomialOutcomeTreatment(\n",
    "    var_list=['x'],\n",
    "    outcome_name='y',\n",
    "    outcome_target=1,\n",
    "    params=vtreat.vtreat_parameters({\n",
    "        'cross_validation_k': k,\n",
    "        'retain_cross_plan': True,\n",
    "    })\n",
    ")\n",
    "\n",
    "# prepare the training data\n",
    "prepared_stratified = treatment_stratified.fit_transform(d, d['y'])"
   ]
  },
  {
   "cell_type": "markdown",
   "metadata": {},
   "source": [
    "Let's look at the distribution  of the target outcome in each of the cross-validation groups:"
   ]
  },
  {
   "cell_type": "code",
   "execution_count": 4,
   "metadata": {
    "collapsed": false,
    "jupyter": {
     "outputs_hidden": false
    },
    "pycharm": {
     "is_executing": false,
     "name": "#%%\n"
    }
   },
   "outputs": [
    {
     "data": {
      "text/html": [
       "<div>\n",
       "<style scoped>\n",
       "    .dataframe tbody tr th:only-of-type {\n",
       "        vertical-align: middle;\n",
       "    }\n",
       "\n",
       "    .dataframe tbody tr th {\n",
       "        vertical-align: top;\n",
       "    }\n",
       "\n",
       "    .dataframe thead th {\n",
       "        text-align: right;\n",
       "    }\n",
       "</style>\n",
       "<table border=\"1\" class=\"dataframe\">\n",
       "  <thead>\n",
       "    <tr style=\"text-align: right;\">\n",
       "      <th></th>\n",
       "      <th>sum</th>\n",
       "      <th>mean</th>\n",
       "      <th>count</th>\n",
       "    </tr>\n",
       "    <tr>\n",
       "      <th>group</th>\n",
       "      <th></th>\n",
       "      <th></th>\n",
       "      <th></th>\n",
       "    </tr>\n",
       "  </thead>\n",
       "  <tbody>\n",
       "    <tr>\n",
       "      <th>0</th>\n",
       "      <td>10</td>\n",
       "      <td>0.050</td>\n",
       "      <td>200</td>\n",
       "    </tr>\n",
       "    <tr>\n",
       "      <th>1</th>\n",
       "      <td>11</td>\n",
       "      <td>0.055</td>\n",
       "      <td>200</td>\n",
       "    </tr>\n",
       "    <tr>\n",
       "      <th>2</th>\n",
       "      <td>12</td>\n",
       "      <td>0.060</td>\n",
       "      <td>200</td>\n",
       "    </tr>\n",
       "    <tr>\n",
       "      <th>3</th>\n",
       "      <td>8</td>\n",
       "      <td>0.040</td>\n",
       "      <td>200</td>\n",
       "    </tr>\n",
       "    <tr>\n",
       "      <th>4</th>\n",
       "      <td>13</td>\n",
       "      <td>0.065</td>\n",
       "      <td>200</td>\n",
       "    </tr>\n",
       "  </tbody>\n",
       "</table>\n",
       "</div>"
      ],
      "text/plain": [
       "       sum   mean  count\n",
       "group                   \n",
       "0       10  0.050    200\n",
       "1       11  0.055    200\n",
       "2       12  0.060    200\n",
       "3        8  0.040    200\n",
       "4       13  0.065    200"
      ]
     },
     "execution_count": 4,
     "metadata": {},
     "output_type": "execute_result"
    }
   ],
   "source": [
    "# convenience function to mark the cross-validation group of each row\n",
    "def label_rows(df, cross_plan, *, label_column = 'group'):\n",
    "    df[label_column] = 0\n",
    "    for i in range(len(cross_plan)):\n",
    "        app = cross_plan[i]['app']\n",
    "        df.loc[app, label_column] = i\n",
    "            \n",
    "# label the rows            \n",
    "label_rows(prepared_stratified, treatment_stratified.cross_plan_)\n",
    "# print(prepared_stratified.head())\n",
    "\n",
    "# get some summary statistics on the data\n",
    "stratified_summary = prepared_stratified.groupby(['group']).agg({'y': ['sum', 'mean', 'count']})\n",
    "stratified_summary.columns = stratified_summary.columns.get_level_values(1)\n",
    "stratified_summary"
   ]
  },
  {
   "cell_type": "code",
   "execution_count": 5,
   "metadata": {
    "pycharm": {
     "is_executing": false
    }
   },
   "outputs": [
    {
     "data": {
      "text/plain": [
       "0.008602325267042627"
      ]
     },
     "execution_count": 5,
     "metadata": {},
     "output_type": "execute_result"
    }
   ],
   "source": [
    "# standard deviation of target prevalence per cross-val fold\n",
    "std_stratified = numpy.std(stratified_summary['mean'])\n",
    "std_stratified "
   ]
  },
  {
   "cell_type": "markdown",
   "metadata": {},
   "source": [
    "## Explicitly Controlling the Sampler\n",
    "\n",
    "A user chosen cross validation plan generator can be passed in as follows.  Also to retain the plan for later\n",
    "inspection, set the `'retain_cross_plan'` parameter.  The passed in class should be derived from\n",
    "`vtreat.cross_plan.CrossValidationPlan`."
   ]
  },
  {
   "cell_type": "code",
   "execution_count": 6,
   "metadata": {
    "collapsed": false,
    "jupyter": {
     "outputs_hidden": false
    },
    "pycharm": {
     "is_executing": false,
     "name": "#%% \n"
    }
   },
   "outputs": [],
   "source": [
    "class KWayCrossPlan(vtreat.cross_plan.CrossValidationPlan):\n",
    "    \"\"\"K-way cross validation plan\"\"\"\n",
    "\n",
    "    def __init__(self):\n",
    "        vtreat.cross_plan.CrossValidationPlan.__init__(self)\n",
    "\n",
    "    # create a custom cross-plan generator\n",
    "    # noinspection PyMethodMayBeStatic\n",
    "    def _k_way_cross_plan(self, n_rows, k_folds):\n",
    "        \"\"\"randomly split range(n_rows) into k_folds disjoint groups\"\"\"\n",
    "        # first assign groups modulo k (ensuring at least one in each group)\n",
    "        grp = [i % k_folds for i in range(n_rows)]\n",
    "        # now shuffle\n",
    "        numpy.random.shuffle(grp)\n",
    "        plan = [\n",
    "            {\n",
    "                \"train\": [i for i in range(n_rows) if grp[i] != j],\n",
    "                \"app\": [i for i in range(n_rows) if grp[i] == j],\n",
    "            }\n",
    "            for j in range(k_folds)\n",
    "        ]\n",
    "        return plan\n",
    "    \n",
    "    def split_plan(self, *, n_rows=None, k_folds=None, data=None, y=None):\n",
    "        if n_rows is None:\n",
    "            raise ValueError(\"n_rows must not be None\")\n",
    "        if k_folds is None:\n",
    "            raise ValueError(\"k_folds must not be None\")\n",
    "        return self._k_way_cross_plan(n_rows=n_rows, k_folds=k_folds)\n",
    "\n",
    "\n",
    "# create the treatment plan\n",
    "treatment_unstratified = vtreat.BinomialOutcomeTreatment(\n",
    "    var_list=['x'],\n",
    "    outcome_name='y',\n",
    "    outcome_target=1,\n",
    "    params=vtreat.vtreat_parameters({\n",
    "        'cross_validation_plan': KWayCrossPlan(),\n",
    "        'cross_validation_k': k,\n",
    "        'retain_cross_plan': True,\n",
    "    })\n",
    ")\n",
    "\n",
    "# prepare the training data\n",
    "prepared_unstratified = treatment_unstratified.fit_transform(d, d['y'])"
   ]
  },
  {
   "cell_type": "code",
   "execution_count": 7,
   "metadata": {
    "collapsed": false,
    "jupyter": {
     "outputs_hidden": false
    },
    "pycharm": {
     "is_executing": false,
     "name": "#%%\n"
    }
   },
   "outputs": [
    {
     "data": {
      "text/html": [
       "<div>\n",
       "<style scoped>\n",
       "    .dataframe tbody tr th:only-of-type {\n",
       "        vertical-align: middle;\n",
       "    }\n",
       "\n",
       "    .dataframe tbody tr th {\n",
       "        vertical-align: top;\n",
       "    }\n",
       "\n",
       "    .dataframe thead th {\n",
       "        text-align: right;\n",
       "    }\n",
       "</style>\n",
       "<table border=\"1\" class=\"dataframe\">\n",
       "  <thead>\n",
       "    <tr style=\"text-align: right;\">\n",
       "      <th></th>\n",
       "      <th>sum</th>\n",
       "      <th>mean</th>\n",
       "      <th>count</th>\n",
       "    </tr>\n",
       "    <tr>\n",
       "      <th>group</th>\n",
       "      <th></th>\n",
       "      <th></th>\n",
       "      <th></th>\n",
       "    </tr>\n",
       "  </thead>\n",
       "  <tbody>\n",
       "    <tr>\n",
       "      <th>0</th>\n",
       "      <td>8</td>\n",
       "      <td>0.040</td>\n",
       "      <td>200</td>\n",
       "    </tr>\n",
       "    <tr>\n",
       "      <th>1</th>\n",
       "      <td>9</td>\n",
       "      <td>0.045</td>\n",
       "      <td>200</td>\n",
       "    </tr>\n",
       "    <tr>\n",
       "      <th>2</th>\n",
       "      <td>15</td>\n",
       "      <td>0.075</td>\n",
       "      <td>200</td>\n",
       "    </tr>\n",
       "    <tr>\n",
       "      <th>3</th>\n",
       "      <td>8</td>\n",
       "      <td>0.040</td>\n",
       "      <td>200</td>\n",
       "    </tr>\n",
       "    <tr>\n",
       "      <th>4</th>\n",
       "      <td>14</td>\n",
       "      <td>0.070</td>\n",
       "      <td>200</td>\n",
       "    </tr>\n",
       "  </tbody>\n",
       "</table>\n",
       "</div>"
      ],
      "text/plain": [
       "       sum   mean  count\n",
       "group                   \n",
       "0        8  0.040    200\n",
       "1        9  0.045    200\n",
       "2       15  0.075    200\n",
       "3        8  0.040    200\n",
       "4       14  0.070    200"
      ]
     },
     "execution_count": 7,
     "metadata": {},
     "output_type": "execute_result"
    }
   ],
   "source": [
    "# get some summary statistics on the data\n",
    "label_rows(prepared_unstratified, treatment_unstratified.cross_plan_)\n",
    "unstratified_summary = prepared_unstratified.groupby(['group']).agg({'y': ['sum', 'mean', 'count']})\n",
    "unstratified_summary.columns = unstratified_summary.columns.get_level_values(1)\n",
    "unstratified_summary"
   ]
  },
  {
   "cell_type": "code",
   "execution_count": 8,
   "metadata": {
    "collapsed": false,
    "jupyter": {
     "outputs_hidden": false
    },
    "pycharm": {
     "is_executing": false,
     "name": "#%%\n"
    }
   },
   "outputs": [
    {
     "data": {
      "text/plain": [
       "0.015297058540778355"
      ]
     },
     "execution_count": 8,
     "metadata": {},
     "output_type": "execute_result"
    }
   ],
   "source": [
    "# standard deviation of target prevalence per cross-val fold\n",
    "std_unstratified = numpy.std(unstratified_summary['mean'])\n",
    "std_unstratified "
   ]
  },
  {
   "cell_type": "markdown",
   "metadata": {
    "pycharm": {
     "name": "#%% md\n"
    }
   },
   "source": [
    "Notice the between group y-variances are about 70% larger in the unstratified sampling plan than in the stratified sampling plan."
   ]
  },
  {
   "cell_type": "code",
   "execution_count": 9,
   "metadata": {
    "collapsed": false,
    "jupyter": {
     "outputs_hidden": false
    },
    "pycharm": {
     "is_executing": false,
     "name": "#%%\n"
    }
   },
   "outputs": [
    {
     "data": {
      "text/plain": [
       "1.7782469350914576"
      ]
     },
     "execution_count": 9,
     "metadata": {},
     "output_type": "execute_result"
    }
   ],
   "source": [
    "std_unstratified/std_stratified"
   ]
  },
  {
   "cell_type": "markdown",
   "metadata": {
    "jupyter": {
     "outputs_hidden": false
    },
    "pycharm": {
     "is_executing": false,
     "name": "#%% md\n"
    }
   },
   "source": [
    "## Other cross-validation schemes\n",
    "\n",
    "If you want to cross-validate under another scheme--for example, stratifying on the prevalences on an input class--you can write your own custom cross-validation scheme and pass it into `vtreat` in a similar fashion as above. Your cross-validation scheme must extend `vtreat`'s [`CrossValidationPlan`](https://github.com/WinVector/pyvtreat/blob/master/pkg/vtreat/cross_plan.py#L14) class.\n",
    "\n",
    "Another benefit of explicit cross-validation plans is that one can use the same cross-validation plan for both the variable design and later modeling steps. This can limit data leaks across the cross-validation folds.\n",
    "\n",
    "### Other predefined cross-validation schemes\n",
    "\n",
    "In addition to the y-stratified cross validation, `vtreat` also defines a time-oriented cross validation scheme ([`OrderedCrossPlan`](https://github.com/WinVector/pyvtreat/blob/master/pkg/vtreat/cross_plan.py#L161)). The ordered cross plan treats time as the grouping variable. For each fold, all the datums in the application set (the datums that the model will be applied to) come from the same time period. All the datums in the training set come from one side of the application set; that is all the training data will be either earlier or later than the data in the application set. Ordered cross plans are useful when modeling time-oriented data.\n",
    "\n",
    "Note: it is important to *not* use leave-one-out cross-validation when using nested or stacked modeling concepts (such as seen in `vtreat`), we have some notes on this [here](https://github.com/WinVector/vtreat/blob/master/extras/ConstantLeak.md)."
   ]
  }
 ],
 "metadata": {
  "kernelspec": {
   "display_name": "Python 3",
   "language": "python",
   "name": "python3"
  },
  "language_info": {
   "codemirror_mode": {
    "name": "ipython",
    "version": 3
   },
   "file_extension": ".py",
   "mimetype": "text/x-python",
   "name": "python",
   "nbconvert_exporter": "python",
   "pygments_lexer": "ipython3",
   "version": "3.7.5"
  },
  "pycharm": {
   "stem_cell": {
    "cell_type": "raw",
    "metadata": {
     "collapsed": false
    },
    "source": []
   }
  }
 },
 "nbformat": 4,
 "nbformat_minor": 4
}
